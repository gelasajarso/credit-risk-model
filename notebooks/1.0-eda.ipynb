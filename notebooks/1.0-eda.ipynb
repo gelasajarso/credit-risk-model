{
 "cells": [
  {
   "cell_type": "code",
   "execution_count": null,
   "id": "25156534",
   "metadata": {},
   "outputs": [],
   "source": [
    "import pandas as pd\n",
    "import numpy as np\n",
    "import matplotlib.pyplot as plt\n",
    "import seaborn as sns\n",
    "\n",
    "sns.set(style='Redgrid')\n"
   ]
  },
  {
   "cell_type": "code",
   "execution_count": null,
   "id": "99f89dde",
   "metadata": {},
   "outputs": [],
   "source": [
    "df = pd.read_csv(\"../data/raw/data.csv\")\n",
    "df.head()"
   ]
  },
  {
   "cell_type": "code",
   "execution_count": null,
   "id": "be591b88",
   "metadata": {},
   "outputs": [],
   "source": [
    "df.shape\n",
    "df.info()\n"
   ]
  },
  {
   "cell_type": "code",
   "execution_count": null,
   "id": "d515fe73",
   "metadata": {},
   "outputs": [],
   "source": [
    "# Summary Statics \n",
    "df.describe()"
   ]
  },
  {
   "cell_type": "markdown",
   "id": "1f26c84d",
   "metadata": {},
   "source": [
    "there are missing values"
   ]
  },
  {
   "cell_type": "code",
   "execution_count": null,
   "id": "eac4cd0c",
   "metadata": {},
   "outputs": [],
   "source": [
    "# Check for missing values  \n",
    "df.isnull().sum()"
   ]
  },
  {
   "cell_type": "code",
   "execution_count": null,
   "id": "1d71e176",
   "metadata": {},
   "outputs": [],
   "source": []
  }
 ],
 "metadata": {
  "kernelspec": {
   "display_name": "Python 3",
   "language": "python",
   "name": "python3"
  },
  "language_info": {
   "codemirror_mode": {
    "name": "ipython",
    "version": 3
   },
   "file_extension": ".py",
   "mimetype": "text/x-python",
   "name": "python",
   "nbconvert_exporter": "python",
   "pygments_lexer": "ipython3",
   "version": "3.13.3"
  }
 },
 "nbformat": 4,
 "nbformat_minor": 5
}
